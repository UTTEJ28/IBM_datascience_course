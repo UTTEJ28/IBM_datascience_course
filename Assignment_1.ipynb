{
 "cells": [
  {
   "cell_type": "markdown",
   "id": "bceeb12e-0413-40f5-a70d-44e9768f03cb",
   "metadata": {},
   "source": [
    "# My Jupyter Notebook on IBM Watson Studio"
   ]
  },
  {
   "cell_type": "markdown",
   "id": "19a6b55e-59ab-4bda-9760-6d75ed8f3e56",
   "metadata": {},
   "source": [
    "**Lokesh Kuppireddi**  \n",
    "Senior Software Engineer"
   ]
  },
  {
   "cell_type": "markdown",
   "id": "11c025b8-eff6-470e-b572-be2aae89c1fe",
   "metadata": {},
   "source": [
    "*Data Science is interesting to me because it is combination of both maths and computer science*"
   ]
  },
  {
   "cell_type": "markdown",
   "id": "971d9590-ce34-4586-bb94-ee63772d79da",
   "metadata": {},
   "source": [
    "### Multiplcation of two numbers"
   ]
  },
  {
   "cell_type": "code",
   "execution_count": 2,
   "id": "0998e41c-4def-4889-8e0f-516eb99f0cc0",
   "metadata": {},
   "outputs": [
    {
     "name": "stdout",
     "output_type": "stream",
     "text": [
      "30\n"
     ]
    }
   ],
   "source": [
    "a = 5\n",
    "b = 6\n",
    "print(a*b)"
   ]
  },
  {
   "cell_type": "markdown",
   "id": "b9f5b430-3f53-467b-b80c-1a29f3e2499c",
   "metadata": {},
   "source": [
    "A Horizontal line\n",
    "\n",
    "---\n",
    "\n",
    "[Google](https://www.google.com)  \n",
    "> Blockquotes.  \n",
    "\n",
    "~~Strikethrough~~  \n",
    "\n",
    "1. a\n",
    "2. b\n",
    "3. c\n",
    "\n",
    "* a\n",
    "* b\n",
    "* c"
   ]
  }
 ],
 "metadata": {
  "kernelspec": {
   "display_name": "Python",
   "language": "python",
   "name": "conda-env-python-py"
  },
  "language_info": {
   "codemirror_mode": {
    "name": "ipython",
    "version": 3
   },
   "file_extension": ".py",
   "mimetype": "text/x-python",
   "name": "python",
   "nbconvert_exporter": "python",
   "pygments_lexer": "ipython3",
   "version": "3.7.12"
  }
 },
 "nbformat": 4,
 "nbformat_minor": 5
}
